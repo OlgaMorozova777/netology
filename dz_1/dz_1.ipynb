{
 "cells": [
  {
   "cell_type": "code",
   "execution_count": 32,
   "metadata": {},
   "outputs": [
    {
     "name": "stdout",
     "output_type": "stream",
     "text": [
      "Фраза 1 длиннее фразы 2\n"
     ]
    }
   ],
   "source": [
    "Phrase_1 = len (\"Насколько проще было бы писать программы, если бы не заказчики\")\n",
    "Phrase_2 = len (\"640Кб должно хватить для любых задач. Билл Гейтс (по легенде)\")\n",
    "\n",
    "if Phrase_1 > Phrase_2:\n",
    "    print (\"Фраза 1 длиннее фразы 2\")\n",
    "elif Phrase_1 < Phrase_2:\n",
    "    print (\"Фраза 2 длиннее фразы 1\")\n",
    "\n",
    "\n",
    "    "
   ]
  },
  {
   "cell_type": "code",
   "execution_count": 33,
   "metadata": {},
   "outputs": [
    {
     "name": "stdout",
     "output_type": "stream",
     "text": [
      "Фраза 2 длиннее фразы 1\n"
     ]
    }
   ],
   "source": [
    "Phrase_1 = len (\"640Кб должно хватить для любых задач. Билл Гейтс (по легенде)\")\n",
    "Phrase_2 = len (\"Насколько проще было бы писать программы, если бы не заказчики\")\n",
    "\n",
    "if Phrase_1 < Phrase_2:\n",
    "    print (\"Фраза 2 длиннее фразы 1\")\n",
    "elif Phrase_1 > Phrase_2:\n",
    "    print (\"Фраза 1 длиннее фразы 2\")"
   ]
  },
  {
   "cell_type": "code",
   "execution_count": 34,
   "metadata": {},
   "outputs": [
    {
     "name": "stdout",
     "output_type": "stream",
     "text": [
      "Фразы равны\n"
     ]
    }
   ],
   "source": [
    "Phrase_1 = len (\"Насколько проще было бы писать программы, если бы не заказчики\")\n",
    "Phrase_2 = len (\"Насколько проще было бы писать программы, если бы не заказчики\")\n",
    "\n",
    "if Phrase_1 == Phrase_2:\n",
    "    print (\"Фразы равны\")"
   ]
  },
  {
   "cell_type": "code",
   "execution_count": 26,
   "metadata": {},
   "outputs": [
    {
     "name": "stdout",
     "output_type": "stream",
     "text": [
      "2020\n",
      "Високосный год\n"
     ]
    }
   ],
   "source": [
    "year = int(input())\n",
    "if (year % 4 == 0) and (year % 100 != 0) or (year % 400 == 0):\n",
    "    print(\"Високосный год\")\n",
    "else:\n",
    "    print(\"Обычный год\")    "
   ]
  },
  {
   "cell_type": "code",
   "execution_count": 12,
   "metadata": {
    "scrolled": false
   },
   "outputs": [
    {
     "name": "stdout",
     "output_type": "stream",
     "text": [
      "Введите день рождения:12\n",
      "Введите месяц рождения:июнь\n",
      "Ваш знак зодиака: Близнецы\n"
     ]
    }
   ],
   "source": [
    "date = int(input(\"Введите день рождения:\"))\n",
    "month = str(input(\"Введите месяц рождения:\"))\n",
    "\n",
    "if (date >= 21 and date <= 31 and month in (\"март\")) or ( month in (\"апрель\") and date >=1 and date <=19):\n",
    "   print(\"Ваш знак зодиака: Овен\")\n",
    "elif (date >= 20 and date <= 30 and month in (\"апрель\")) or ( month in (\"май\") and date >= 1 and date <= 20):\n",
    "   print(\"Ваш знак зодиака: Телец\")\n",
    "elif (date >= 21 and date <= 31 and month in (\"май\")) or ( month in (\"июнь\") and date >= 1 and date <= 21):\n",
    "   print(\"Ваш знак зодиака: Близнецы\")\n",
    "elif (date >= 22 and date <= 30 and month in (\"июнь\")) or ( month in (\"июль\") and date >= 1 and date <= 22):\n",
    "   print(\"Ваш знак зодиака: Рак\")\n",
    "elif (date >= 23 and date <= 31 and month in (\"июль\")) or ( month in (\"август\") and date >= 1 and date <= 22):\n",
    "   print(\"Ваш знак зодиака: Лев\")\n",
    "elif (date >= 23 and date <= 31 and month in (\"август\")) or ( month in (\"сентябрь\") and date >= 1 and date <= 22):\n",
    "   print(\"Ваш знак зодиака: Дева\")\n",
    "elif (date >= 23 and date <= 30 and month in (\"сентябрь\")) or ( month in (\"октябрь\") and date >= 1 and date <= 23):\n",
    "   print(\"Ваш знак зодиака: Весы\")\n",
    "elif (date >= 24 and date <= 31 and month in (\"октябрь\")) or ( month in (\"ноябрь\") and date >= 1 and date <= 22):\n",
    "   print(\"Ваш знак зодиака: Скорпион\")\n",
    "elif (date >= 23 and date <= 30 and month in (\"ноябрь\")) or ( month in (\"декабрь\") and date >= 1 and date <= 21):\n",
    "   print(\"Ваш знак зодиака: Стрелец\")\n",
    "elif (date >= 22 and date <= 31 and month in (\"декабрь\")) or ( month in (\"январь\") and date >= 1 and date <= 20):\n",
    "   print(\"Ваш знак зодиака: Козерог\")\n",
    "elif (date >= 21 and date <= 31 and month in (\"январь\")) or ( month in (\"февраль\") and date >=1 and date <= 18):\n",
    "   print(\"Ваш знак зодиака: Водолей\")\n",
    "elif (date >= 19 and date <= 29 and month in (\"февраль\")) or ( month in (\"март\") and date >= 1 and date <= 20):\n",
    "   print(\"Ваш знак зодиака: Рыбы\")"
   ]
  },
  {
   "cell_type": "code",
   "execution_count": 19,
   "metadata": {},
   "outputs": [
    {
     "name": "stdout",
     "output_type": "stream",
     "text": [
      "Ширина см 60\n",
      "Длина см 60\n",
      "Высота см 60\n",
      "Стандартная коробка №3\n"
     ]
    }
   ],
   "source": [
    "width = int(input(\"Ширина см \"))\n",
    "length = int(input(\"Длина см \"))\n",
    "height = int(input(\"Высота см \"))\n",
    "\n",
    "if width < 15 and length < 15 and height < 15:\n",
    "    print (\"Коробка №1\")\n",
    "elif (width > 15 and width < 50) or (length > 15 and length < 50) or (height > 15 and height < 50):\n",
    "    print (\"Коробка №2\")\n",
    "elif length > 200:\n",
    "    print (\"Упаковка для лыж\")\n",
    "else:\n",
    "    print (\"Стандартная коробка №3\")"
   ]
  },
  {
   "cell_type": "code",
   "execution_count": null,
   "metadata": {},
   "outputs": [],
   "source": []
  }
 ],
 "metadata": {
  "kernelspec": {
   "display_name": "Python 3",
   "language": "python",
   "name": "python3"
  },
  "language_info": {
   "codemirror_mode": {
    "name": "ipython",
    "version": 3
   },
   "file_extension": ".py",
   "mimetype": "text/x-python",
   "name": "python",
   "nbconvert_exporter": "python",
   "pygments_lexer": "ipython3",
   "version": "3.8.3"
  }
 },
 "nbformat": 4,
 "nbformat_minor": 4
}
