{
 "cells": [
  {
   "cell_type": "code",
   "execution_count": null,
   "metadata": {},
   "outputs": [],
   "source": [
    "import pandas as pd"
   ]
  },
  {
   "cell_type": "code",
   "execution_count": null,
   "metadata": {},
   "outputs": [],
   "source": [
    "# Задание 1\n",
    "\n",
    "\n",
    "rating_path = '/Users/neur0tr0n/Downloads/ml-latest-small/ratings.csv'\n",
    "films_path = '/Users/neur0tr0n/Downloads/ml-latest-small/movies.csv'\n",
    "\n",
    "ratings = pd.read_csv(rating_path)\n",
    "films = pd.read_csv(films_path)\n",
    "rating = '5.0'\n",
    "most_popular_film = ratings[['movieId', 'rating']].query('rating == 5.0').value_counts().head(1)\n",
    "id_most_popular_film = most_popular_film.index[0][0]\n",
    "print(films[['title', 'movieId']].query('movieId == {}'.format(id_most_popular_film))['title'])"
   ]
  },
  {
   "cell_type": "code",
   "execution_count": null,
   "metadata": {},
   "outputs": [],
   "source": [
    "# Задание 2\n",
    "\n",
    "\n",
    "def get_sum_consume():\n",
    "    countries = pd.read_csv('/Users/neur0tr0n/Downloads/10/power.csv')\n",
    "    query_string = '(country == \\'Estonia\\' or country == \\'Lithuania\\' or country == \\'Lithuania\\') ' \\\n",
    "                   'and (category == 4 or category == 12 or category == 21) and quantity > 0 ' \\\n",
    "                   'and year > 2005 and year < 2010'\n",
    "    filtered_countries = countries[['country', 'quantity', 'category', 'year']].query(query_string)\n",
    "    return filtered_countries['quantity'].sum()\n",
    "\n",
    "\n",
    "print('Суммарное потребление стран Прибалтики (Латвия, Литва и Эстония): {}'.format(get_sum_consume()))"
   ]
  },
  {
   "cell_type": "code",
   "execution_count": null,
   "metadata": {},
   "outputs": [],
   "source": [
    "# Задание 3\n",
    "\n",
    "\n",
    "import requests\n",
    "url = 'https://fortrader.org/quotes'\n",
    "header = {\n",
    "  \"User-Agent\": \"Mozilla/5.0 (X11; Linux x86_64) AppleWebKit/537.36 (KHTML, like Gecko) Chrome/50.0.2661.75 Safari/537.36\",\n",
    "  \"X-Requested-With\": \"XMLHttpRequest\"\n",
    "}\n",
    "\n",
    "response = requests.get(url, headers=header)\n",
    "data = pd.read_html(response.text)\n",
    "print(data)"
   ]
  }
 ],
 "metadata": {
  "kernelspec": {
   "display_name": "Python 3",
   "language": "python",
   "name": "python3"
  },
  "language_info": {
   "codemirror_mode": {
    "name": "ipython",
    "version": 3
   },
   "file_extension": ".py",
   "mimetype": "text/x-python",
   "name": "python",
   "nbconvert_exporter": "python",
   "pygments_lexer": "ipython3",
   "version": "3.8.3"
  }
 },
 "nbformat": 4,
 "nbformat_minor": 4
}
