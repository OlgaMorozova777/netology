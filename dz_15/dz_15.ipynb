{
 "cells": [
  {
   "cell_type": "code",
   "execution_count": 8,
   "metadata": {},
   "outputs": [],
   "source": [
    "import numpy as np"
   ]
  },
  {
   "cell_type": "code",
   "execution_count": 9,
   "metadata": {},
   "outputs": [],
   "source": [
    "\n",
    "#автомат выдает три числа случайным образом. Зададим их как a,b,c.\n",
    "a = np.random.randint(0, 10)\n",
    "b = np.random.randint(0, 10)\n",
    "c = np.random.randint(0, 10)"
   ]
  },
  {
   "cell_type": "code",
   "execution_count": 10,
   "metadata": {},
   "outputs": [
    {
     "name": "stdout",
     "output_type": "stream",
     "text": [
      "количество игр - 100000; сумма выигрыша - 78912; выигрыш за одну игру - 0.78912\n"
     ]
    }
   ],
   "source": [
    "trials = 100000    \n",
    "\n",
    "money = []  \n",
    "#в список будем собирать значения выигрышей в зависимости от выпавших чисел.\n",
    "\n",
    "for i in range(trials):\n",
    "    a = np.random.randint(0, 10)\n",
    "    b = np.random.randint(0, 10)\n",
    "    c = np.random.randint(0, 10)    \n",
    "    if a == 7 and b == 7 and c == 7: money.append(200)\n",
    "    elif a == 9 and b == 9 and c == 9: money.append(100)\n",
    "    elif a == 5 and b == 5 and c == 5: money.append(50)    \n",
    "    elif a == 3 and b == 3 and c == 3: money.append(15)\n",
    "    elif a == 1 and b == 1 and c == 1: money.append(10)\n",
    "    elif b == 7 and c == 7: money.append(5)\n",
    "    elif c == 7: money.append(3)\n",
    "    elif b == 0 and c == 0: money.append(2)\n",
    "    elif c == 0: money.append(1) \n",
    "    else: pass\n",
    "\n",
    "#рассчитываем сумму всех выигрышей\n",
    "sum_ = 0\n",
    "for item in money:\n",
    "    sum_ = sum_ + item\n",
    "\n",
    "#по методу Монте-Карло рассчитаем средний единичный выигрыш. \n",
    "p_monte_carlo = sum_ / trials\n",
    "\n",
    "print (f\"количество игр - {trials}; сумма выигрыша - {sum_}; выигрыш за одну игру - {p_monte_carlo}\")"
   ]
  },
  {
   "cell_type": "code",
   "execution_count": 11,
   "metadata": {},
   "outputs": [
    {
     "name": "stdout",
     "output_type": "stream",
     "text": [
      "9 90 10 90\n"
     ]
    }
   ],
   "source": [
    "#Рассчитаем теоретический выигрыш. Для этого сложим произведения всех выигрышей на их вероятность выпадения\n",
    "#Вероятность выпадения комбинации рассчитаем как отношение выигрышных комбинаций к их общему числу\n",
    "#Всего комбинаций 1000 - от 000 до 999 включительно. \n",
    "#Очевидно, что для комбинаций \"777\",\"999\", \"555\", \"333\" - вероятности выпадения будут равны 1/1000\n",
    " \n",
    "#Подсчитаем количество выигрышных комбинаций для 4х более сложных вариантов\n",
    "ver_1 = 0\n",
    "ver_2 = 0\n",
    "ver_3 = 0\n",
    "ver_4 = 0\n",
    "\n",
    "for a in range(0,10):\n",
    "    for b in range(0,10):\n",
    "        for c in range(0,10):\n",
    "            if  b == 7 and c == 7 and a != 7: ver_1 +=1\n",
    "            elif c == 7 and b !=7 : ver_2 +=1\n",
    "            elif b == 0 and c == 0: ver_3 +=1\n",
    "            elif c == 0 and b!= 0 : ver_4 +=1 \n",
    "    else: pass\n",
    "    \n",
    "print(ver_1, ver_2, ver_3, ver_4)"
   ]
  },
  {
   "cell_type": "code",
   "execution_count": 12,
   "metadata": {},
   "outputs": [
    {
     "name": "stdout",
     "output_type": "stream",
     "text": [
      " теоретический единичный выигрыш - 0.8\n"
     ]
    }
   ],
   "source": [
    "ter_ver = 1 / 1000 * ( 1 * 200 + 1 * 100 + 1 * 50 + 1 * 15 + 1 * 10 + ver_1 * 5 + ver_2 * 3 + ver_3 * 2 + ver_4 * 1)\n",
    "print (f\" теоретический единичный выигрыш - {ter_ver}\")"
   ]
  },
  {
   "cell_type": "code",
   "execution_count": null,
   "metadata": {},
   "outputs": [],
   "source": []
  }
 ],
 "metadata": {
  "kernelspec": {
   "display_name": "Python 3",
   "language": "python",
   "name": "python3"
  },
  "language_info": {
   "codemirror_mode": {
    "name": "ipython",
    "version": 3
   },
   "file_extension": ".py",
   "mimetype": "text/x-python",
   "name": "python",
   "nbconvert_exporter": "python",
   "pygments_lexer": "ipython3",
   "version": "3.8.3"
  }
 },
 "nbformat": 4,
 "nbformat_minor": 4
}
