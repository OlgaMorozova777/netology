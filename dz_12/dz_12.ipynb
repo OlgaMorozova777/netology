{
 "cells": [
  {
   "cell_type": "code",
   "execution_count": null,
   "metadata": {},
   "outputs": [],
   "source": [
    "# Задание 1\n",
    "\n",
    "\n",
    "import pandas as pd\n",
    "\n",
    "def get_source_type(row):\n",
    "    source_type = ''\n",
    "    if row['traffic_source'] == 'yandex' or row['traffic_source'] == 'google':\n",
    "        source_type = 'organic'\n",
    "    elif (row['traffic_source'] == 'paid' or row['traffic_source'] == 'email') and row['region'] == 'Russia':\n",
    "        source_type = 'ad'\n",
    "    elif (row['traffic_source'] == 'paid' or row['traffic_source'] == 'email') and row['region'] != 'Russia':\n",
    "        source_type = 'other'\n",
    "    else:\n",
    "        source_type = row['traffic_source']\n",
    "    return source_type\n",
    "\n",
    "\n",
    "path = '/Users/neur0tr0n/Downloads/доп_материалы_к_пандас_1_и_2/'\n",
    "file = 'visit_log.csv'\n",
    "log_df = pd.read_csv(path + file, sep=';')\n",
    "log_df['source_type'] = log_df.apply(get_source_type, axis=1)\n",
    "print(log_df.head(10))"
   ]
  },
  {
   "cell_type": "code",
   "execution_count": null,
   "metadata": {},
   "outputs": [],
   "source": [
    "# Задание 2\n",
    "\n",
    "\n",
    "import re\n",
    "\n",
    "path = '/Users/neur0tr0n/Downloads/доп_материалы_к_пандас_1_и_2/'\n",
    "file = 'URLs.txt'\n",
    "url_df = pd.read_csv(path + file)\n",
    "reg_exp = re.compile(r'\\/\\d{8}\\-')\n",
    "print(url_df[url_df['url'].str.contains(reg_exp)].head(10))"
   ]
  },
  {
   "cell_type": "code",
   "execution_count": null,
   "metadata": {},
   "outputs": [],
   "source": [
    "# Задание 3\n",
    "\n",
    "\n",
    "path = '/Users/neur0tr0n/Downloads/Python_13_join/ml-latest-small/'\n",
    "file = 'ratings.csv'\n",
    "ratings = pd.read_csv(path + file)\n",
    "ratings_max = ratings.groupby('userId').max()\n",
    "ratings_min = ratings.groupby('userId').min()\n",
    "ratings_count = ratings.groupby('userId').count()\n",
    "ratings_count['max'] = ratings_max['timestamp']\n",
    "ratings_count['min'] = ratings_min['timestamp']\n",
    "ratings_count['diff'] = ratings_count['max'] - ratings_count['min']\n",
    "mean_user_life = ratings_count.query('movieId > 100')['diff'].mean()\n",
    "print(mean_user_life)"
   ]
  },
  {
   "cell_type": "code",
   "execution_count": null,
   "metadata": {},
   "outputs": [],
   "source": [
    "# Задание 4\n",
    "\n",
    "\n",
    "rzd = pd.DataFrame(\n",
    "    {\n",
    "        'client_id': [111, 112, 113, 114, 115],\n",
    "        'rzd_revenue': [1093, 2810, 10283, 5774, 981]\n",
    "    }\n",
    ")\n",
    "auto = pd.DataFrame(\n",
    "    {\n",
    "        'client_id': [113, 114, 115, 116, 117],\n",
    "        'auto_revenue': [57483, 83, 912, 4834, 98]\n",
    "    }\n",
    ")\n",
    "air = pd.DataFrame(\n",
    "    {\n",
    "        'client_id': [115, 116, 117, 118],\n",
    "        'air_revenue': [81, 4, 13, 173]\n",
    "    }\n",
    ")\n",
    "client_base = pd.DataFrame(\n",
    "    {\n",
    "        'client_id': [111, 112, 113, 114, 115, 116, 117, 118],\n",
    "        'address': ['Комсомольская 4', 'Энтузиастов 8а', 'Левобережная 1а', 'Мира 14', 'ЗЖБИиДК 1',\n",
    "                    'Строителей 18', 'Панфиловская 33', 'Мастеркова 4']\n",
    "    }\n",
    ")\n",
    "joined_df = rzd.merge(auto, how='outer', on='client_id').merge(air, how='outer', on='client_id').fillna(0)\n",
    "print(joined_df)\n",
    "joined_df_addr = joined_df.merge(client_base, how='outer', on='client_id')\n",
    "print(joined_df_addr)"
   ]
  }
 ],
 "metadata": {
  "kernelspec": {
   "display_name": "Python 3",
   "language": "python",
   "name": "python3"
  },
  "language_info": {
   "codemirror_mode": {
    "name": "ipython",
    "version": 3
   },
   "file_extension": ".py",
   "mimetype": "text/x-python",
   "name": "python",
   "nbconvert_exporter": "python",
   "pygments_lexer": "ipython3",
   "version": "3.8.3"
  }
 },
 "nbformat": 4,
 "nbformat_minor": 4
}
