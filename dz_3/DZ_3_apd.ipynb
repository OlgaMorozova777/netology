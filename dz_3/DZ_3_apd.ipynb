{
 "cells": [
  {
   "cell_type": "code",
   "execution_count": 1,
   "metadata": {},
   "outputs": [
    {
     "name": "stdout",
     "output_type": "stream",
     "text": [
      "{98, 35, 15, 213, 54, 119}\n"
     ]
    }
   ],
   "source": [
    "ids = {\"user1\": [213, 213, 213, 15, 213],\n",
    "\"user2\": [54, 54, 119, 119, 119],\n",
    "\"user3\": [213, 98, 98, 35]}\n",
    "\n",
    "new_list = []\n",
    "for element in ids.values():\n",
    "        new_list += element\n",
    "print(set(new_list))       \n",
    "\n"
   ]
  },
  {
   "cell_type": "code",
   "execution_count": 1,
   "metadata": {},
   "outputs": [
    {
     "name": "stdout",
     "output_type": "stream",
     "text": [
      "Поисковых запросов, содержащих  2  слова:   42.86 %\n",
      "Поисковых запросов, содержащих  3  слова:   57.14 %\n"
     ]
    }
   ],
   "source": [
    "queries = [\n",
    "\"смотреть сериалы онлайн\",\n",
    "\"новости спорта\",\n",
    "\"афиша кино\",\n",
    "\"курс доллара\",\n",
    "\"сериалы этим летом\",\n",
    "\"курс по питону\",\n",
    "\"сериалы про спорт\",\n",
    "]\n",
    "\n",
    "d = {}\n",
    "\n",
    "for row in queries:\n",
    "    length=len(row.split())\n",
    "\n",
    "    if length not in d:\n",
    "        d[length] = 1\n",
    "    else:\n",
    "        d[length] += 1\n",
    "        \n",
    "for key in sorted(d):\n",
    "        print(\"Поисковых запросов, содержащих \",key,\" слова:\", \" \", \"{:.2f}\".format(d[key] / len(queries)*100.0), \"%\")"
   ]
  },
  {
   "cell_type": "code",
   "execution_count": 5,
   "metadata": {},
   "outputs": [
    {
     "name": "stdout",
     "output_type": "stream",
     "text": [
      "{'vk': {'revenue': 103, 'cost': 98, 'ROI': '5.10'}, 'yandex': {'revenue': 179, 'cost': 153, 'ROI': '16.99'}, 'facebook': {'revenue': 103, 'cost': 110, 'ROI': '-6.36'}, 'adwords': {'revenue': 35, 'cost': 34, 'ROI': '2.94'}, 'twitter': {'revenue': 11, 'cost': 24, 'ROI': '-54.17'}}\n"
     ]
    }
   ],
   "source": [
    "results = {\n",
    "\"vk\": {\"revenue\": 103, \"cost\": 98},\n",
    "\"yandex\": {\"revenue\": 179, \"cost\": 153},\n",
    "\"facebook\": {\"revenue\": 103, \"cost\": 110},\n",
    "\"adwords\": {\"revenue\": 35, \"cost\": 34},\n",
    "\"twitter\": {\"revenue\": 11, \"cost\": 24},\n",
    "}\n",
    "\n",
    "for i in results:\n",
    "    results[i].setdefault(\"ROI\", \"{:.2f}\".format((results[i][\"revenue\"] / results[i][\"cost\"] - 1) * 100.0))\n",
    "print(results)\n",
    "     "
   ]
  },
  {
   "cell_type": "code",
   "execution_count": 197,
   "metadata": {},
   "outputs": [
    {
     "name": "stdout",
     "output_type": "stream",
     "text": [
      "vk\n"
     ]
    }
   ],
   "source": [
    "stats = {\"facebook\": 55, \"yandex\": 115, \"vk\": 120, \"google\": 99, \"email\": 42, \"ok\": 98}\n",
    "\n",
    "print(max(stats, key=stats.get))"
   ]
  },
  {
   "cell_type": "code",
   "execution_count": 169,
   "metadata": {},
   "outputs": [
    {
     "data": {
      "text/plain": [
       "0"
      ]
     },
     "execution_count": 169,
     "metadata": {},
     "output_type": "execute_result"
    }
   ],
   "source": [
    "0"
   ]
  },
  {
   "cell_type": "code",
   "execution_count": null,
   "metadata": {},
   "outputs": [],
   "source": []
  }
 ],
 "metadata": {
  "kernelspec": {
   "display_name": "Python 3",
   "language": "python",
   "name": "python3"
  },
  "language_info": {
   "codemirror_mode": {
    "name": "ipython",
    "version": 3
   },
   "file_extension": ".py",
   "mimetype": "text/x-python",
   "name": "python",
   "nbconvert_exporter": "python",
   "pygments_lexer": "ipython3",
   "version": "3.8.3"
  }
 },
 "nbformat": 4,
 "nbformat_minor": 4
}
