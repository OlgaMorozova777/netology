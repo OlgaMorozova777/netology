{
 "cells": [
  {
   "cell_type": "code",
   "execution_count": 1,
   "metadata": {},
   "outputs": [
    {
     "name": "stdout",
     "output_type": "stream",
     "text": [
      "[9 8 7 6 5 4 3 2 1 0]\n"
     ]
    }
   ],
   "source": [
    "#Задание 1\n",
    "\n",
    "import numpy as np\n",
    "array_ = np.arange(9, -1, -1)\n",
    "print(array_)"
   ]
  },
  {
   "cell_type": "code",
   "execution_count": 2,
   "metadata": {},
   "outputs": [
    {
     "name": "stdout",
     "output_type": "stream",
     "text": [
      "45\n"
     ]
    }
   ],
   "source": [
    "#Задание 2\n",
    "\n",
    "import numpy as np\n",
    "\n",
    "number = 10\n",
    "matrix = np.diag(np.arange(number - 1, -1, -1), k=0)\n",
    "sum = 0\n",
    "for i in range(number):\n",
    "    sum += matrix[i, i]\n",
    "print(sum)"
   ]
  },
  {
   "cell_type": "code",
   "execution_count": 3,
   "metadata": {},
   "outputs": [
    {
     "name": "stdout",
     "output_type": "stream",
     "text": [
      "[ 0.46666667  3.84444444 -5.55555556]\n",
      "True\n"
     ]
    }
   ],
   "source": [
    "#Задание 3\n",
    "\n",
    "import numpy as np\n",
    "from numpy import linalg as la\n",
    "\n",
    "mat_a = np.array([[4, 2, 1], [1, 3, 0], [0, 5, 4]])\n",
    "mat_b = np.array([4, 12, -3])\n",
    "solv = la.solve(mat_a, mat_b)\n",
    "print(solv)\n",
    "print(np.allclose(np.dot(mat_a, solv), mat_b))"
   ]
  },
  {
   "cell_type": "code",
   "execution_count": 4,
   "metadata": {},
   "outputs": [
    {
     "name": "stdout",
     "output_type": "stream",
     "text": [
      "[0 1 2 0 0 0]\n",
      "[0 1 1 0 0 0]\n",
      "0.949\n"
     ]
    }
   ],
   "source": [
    "#Задание 4\n",
    "\n",
    "import numpy as np\n",
    "from numpy import linalg as la\n",
    "\n",
    "users_stats = np.array(\n",
    "    [\n",
    "        [2, 1, 0, 0, 0, 0],\n",
    "        [1, 1, 2, 1, 0, 0],\n",
    "        [2, 0, 1, 0, 0, 0],\n",
    "        [1, 1, 2, 1, 0, 1],\n",
    "        [0, 0, 1, 2, 0, 0],\n",
    "        [0, 0, 0, 0, 0, 5],\n",
    "        [1, 0, 0, 0, 0, 0],\n",
    "        [0, 1, 1, 0, 0, 0],\n",
    "        [0, 0, 0, 1, 1, 3],\n",
    "        [1, 0, 0, 2, 1, 4]\n",
    "    ],\n",
    "    np.int32\n",
    ")\n",
    "next_user_stats = np.array([0, 1, 2, 0, 0, 0])\n",
    "\n",
    "\n",
    "def get_cos(user_a, user_b):\n",
    "    a_length = la.norm(user_a)\n",
    "    b_length = la.norm(user_b)\n",
    "    return round(np.dot(user_a, user_b) / (a_length * b_length), 3)\n",
    "\n",
    "\n",
    "max_cos = -1\n",
    "for user in users_stats:\n",
    "    cos = get_cos(next_user_stats, user)\n",
    "    if max_cos < cos:\n",
    "        max_cos = cos\n",
    "        match_user = user\n",
    "print(next_user_stats)\n",
    "print(match_user)\n",
    "print(max_cos)"
   ]
  },
  {
   "cell_type": "code",
   "execution_count": null,
   "metadata": {},
   "outputs": [],
   "source": []
  }
 ],
 "metadata": {
  "kernelspec": {
   "display_name": "Python 3",
   "language": "python",
   "name": "python3"
  },
  "language_info": {
   "codemirror_mode": {
    "name": "ipython",
    "version": 3
   },
   "file_extension": ".py",
   "mimetype": "text/x-python",
   "name": "python",
   "nbconvert_exporter": "python",
   "pygments_lexer": "ipython3",
   "version": "3.8.3"
  }
 },
 "nbformat": 4,
 "nbformat_minor": 4
}
