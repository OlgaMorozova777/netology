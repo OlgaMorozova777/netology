{
 "cells": [
  {
   "cell_type": "code",
   "execution_count": 11,
   "metadata": {},
   "outputs": [],
   "source": [
    "import re"
   ]
  },
  {
   "cell_type": "code",
   "execution_count": 16,
   "metadata": {},
   "outputs": [
    {
     "name": "stdout",
     "output_type": "stream",
     "text": [
      "Введите регистрационный номер транстпортного стредства: А688ПА96\n",
      "Номер А688ПА валиден. Регион: 96\n"
     ]
    }
   ],
   "source": [
    "#Задача 1\n",
    "\n",
    "user_input = input(\"Введите регистрационный номер транстпортного стредства: \").upper()\n",
    "reg_exp = re.compile(r\"([А-Я]{1}\\d{3}[А-Я]{2})(\\d{2,3})\")\n",
    "if reg_exp.search(user_input):\n",
    "    reg_num = reg_exp.search(user_input)\n",
    "    print(f\"Номер {reg_num.group(1)} валиден. Регион: {reg_num.group(2)}\")\n",
    "else:\n",
    "    print(\"Номер не валиден.\")"
   ]
  },
  {
   "cell_type": "code",
   "execution_count": 18,
   "metadata": {},
   "outputs": [
    {
     "name": "stdout",
     "output_type": "stream",
     "text": [
      "Напишите функцию, которая будет удалять все последовательные повторы слов из заданной строки при помощи регулярных выражений.\n"
     ]
    }
   ],
   "source": [
    "#Задача 2\n",
    "\n",
    "some_string = \"Напишите функцию функцию, которая будет будет будет будет удалять все все все все последовательные повторы слов из из из из заданной строки строки при помощи регулярных выражений.\"\n",
    "reg_exp = re.compile(r\"\\b(\\w+)(?:\\s+\\1\\b)+\")\n",
    "new_string = reg_exp.sub(r\"\\1\", some_string)\n",
    "print(new_string)"
   ]
  },
  {
   "cell_type": "code",
   "execution_count": 20,
   "metadata": {},
   "outputs": [
    {
     "name": "stdout",
     "output_type": "stream",
     "text": [
      " NFC\n"
     ]
    }
   ],
   "source": [
    "#Задача 3\n",
    "\n",
    "some_words = \"Near Field Communication\"\n",
    "reg_exp = re.compile(r\"(\\b\\w)+\")\n",
    "list_ = reg_exp.findall(some_words)\n",
    "new_word = \" \"\n",
    "for letter in list_:\n",
    "    new_word = new_word + letter\n",
    "new_word = new_word.upper()\n",
    "print(new_word)"
   ]
  },
  {
   "cell_type": "code",
   "execution_count": 24,
   "metadata": {},
   "outputs": [
    {
     "name": "stdout",
     "output_type": "stream",
     "text": [
      "gmail.com : 2\n",
      "test.in : 1\n",
      "ya.ru : 2\n",
      "mail.ru : 1\n"
     ]
    }
   ],
   "source": [
    "#Задача 4\n",
    "\n",
    "adress = \"test@gmail.com, xyz@test.in, test@ya.ru, xyz@mail.ru, xyz@ya.ru, xyz@gmail.com\"\n",
    "reg_exp = re.compile(r\"(?:@)(\\w+\\.\\w{2,3})\")\n",
    "domains = reg_exp.findall(adress)\n",
    "domain_entry = {}\n",
    "for domain in domains:\n",
    "    if domain in domain_entry.keys():\n",
    "        domain_entry[domain] += 1\n",
    "    else:\n",
    "        domain_entry[domain] = 1\n",
    "for dom, count in domain_entry.items():\n",
    "    print(f\"{dom} : {count}\")"
   ]
  },
  {
   "cell_type": "code",
   "execution_count": null,
   "metadata": {},
   "outputs": [],
   "source": []
  }
 ],
 "metadata": {
  "kernelspec": {
   "display_name": "Python 3",
   "language": "python",
   "name": "python3"
  },
  "language_info": {
   "codemirror_mode": {
    "name": "ipython",
    "version": 3
   },
   "file_extension": ".py",
   "mimetype": "text/x-python",
   "name": "python",
   "nbconvert_exporter": "python",
   "pygments_lexer": "ipython3",
   "version": "3.8.3"
  }
 },
 "nbformat": 4,
 "nbformat_minor": 4
}
