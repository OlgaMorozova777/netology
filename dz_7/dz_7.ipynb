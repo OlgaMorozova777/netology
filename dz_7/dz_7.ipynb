{
 "cells": [
  {
   "cell_type": "code",
   "execution_count": 18,
   "metadata": {},
   "outputs": [
    {
     "data": {
      "text/plain": [
       "'СДР (специальные права заимствования)'"
      ]
     },
     "execution_count": 18,
     "metadata": {},
     "output_type": "execute_result"
    }
   ],
   "source": [
    "#Задача 1\n",
    "\n",
    "import requests\n",
    "\n",
    "\n",
    "currency_url = \"https://www.cbr-xml-daily.ru/daily_json.js\"\n",
    "\n",
    "def get_max_value(url):\n",
    "    rates = requests.get(url).json()\n",
    "    max_rate = max(\n",
    "        rates['Valute'].values(),\n",
    "        key=lambda rate: rate['Value']\n",
    "    )\n",
    "    return max_rate.get('Name')\n",
    "\n",
    "get_max_value(currency_url)"
   ]
  },
  {
   "cell_type": "code",
   "execution_count": 19,
   "metadata": {},
   "outputs": [
    {
     "data": {
      "text/plain": [
       "0.33740000000000236"
      ]
     },
     "execution_count": 19,
     "metadata": {},
     "output_type": "execute_result"
    }
   ],
   "source": [
    "#Задача 2\n",
    "\n",
    "\n",
    "class Rate:\n",
    "    def __init__(self, format='value', diff=False):\n",
    "        self.format = format\n",
    "        self.diff = diff\n",
    "    \n",
    "    def exchange_rates(self):\n",
    "        r = requests.get('https://www.cbr-xml-daily.ru/daily_json.js')\n",
    "        return r.json()['Valute']\n",
    "    \n",
    "    def make_format(self, currency):\n",
    "        response = self.exchange_rates()\n",
    "        \n",
    "        if currency in response:\n",
    "            if self.format == 'full':\n",
    "                return response[currency]\n",
    "            \n",
    "            if self.format == 'value':\n",
    "                if self.diff:\n",
    "                    return response[currency]['Value'] - response[currency]['Previous']\n",
    "                else:\n",
    "                    return response[currency]['Value']\n",
    "        \n",
    "        return 'Err'\n",
    "    \n",
    "    def eur(self):\n",
    "        return self.make_format('EUR')\n",
    "    \n",
    "    def usd(self):\n",
    "        return self.make_format('USD')\n",
    "    \n",
    "Rate(diff=True).usd()"
   ]
  },
  {
   "cell_type": "code",
   "execution_count": 22,
   "metadata": {},
   "outputs": [],
   "source": [
    "# Задача 3 (повышение сотрудников, класс с лекции)\n",
    "\n",
    "class Employee:\n",
    "    def __init__(self, name, seniority):\n",
    "        self.name = name\n",
    "        self.seniority = seniority\n",
    "        \n",
    "    def grade(self):\n",
    "        return floor(self.seniority / 2)\n",
    "    \n",
    "    def publish_grade(self):\n",
    "        \"\"\"Публикация результатов аккредитации сотрудников\"\"\"\n",
    "        print(self.name, self.grade)"
   ]
  },
  {
   "cell_type": "code",
   "execution_count": 27,
   "metadata": {},
   "outputs": [
    {
     "name": "stdout",
     "output_type": "stream",
     "text": [
      "Ольга 1\n",
      "Ольга 1\n",
      "Ольга 1\n",
      "Ольга 1\n",
      "Ольга 1\n",
      "Ольга 1\n",
      "Ольга 1\n",
      "Ольга 2\n",
      "Ольга 2\n",
      "Ольга 2\n",
      "Ольга 2\n",
      "Ольга 2\n",
      "Ольга 2\n",
      "Ольга 2\n",
      "Ольга 3\n",
      "Ольга 3\n",
      "Ольга 3\n",
      "Ольга 3\n",
      "Ольга 3\n",
      "Ольга 3\n",
      "Prize!!!\n",
      "Prize!!!\n",
      "Prize!!!\n",
      "Prize!!!\n",
      "Prize!!!\n",
      "Ольга 5\n",
      "Ольга 5\n",
      "Ольга 5\n",
      "Ольга 5\n",
      "Ольга 5\n",
      "Ольга 6\n",
      "Ольга 6\n",
      "Ольга 6\n",
      "Ольга 6\n",
      "Ольга 6\n",
      "Ольга 6\n",
      "Ольга 6\n",
      "Ольга 7\n",
      "Ольга 7\n",
      "Ольга 7\n",
      "Ольга 7\n",
      "Ольга 7\n",
      "Ольга 7\n",
      "Ольга 7\n",
      "Ольга 8\n"
     ]
    }
   ],
   "source": [
    "from math import floor\n",
    "\n",
    "class Designer(Employee):\n",
    "    def __init__(self, name, seniority, inter_prize=2):\n",
    "        super().__init__(name, seniority)\n",
    "        self.inter_prize = inter_prize;\n",
    "\n",
    "    @property\n",
    "    def grade(self):\n",
    "        return floor((self.inter_prize * 2 + self.seniority) / 7)\n",
    "    \n",
    "    def give_a_prize(self):\n",
    "        print('Prize!!!')\n",
    "        self.inter_prize += 1\n",
    "        \n",
    "    def check_if_it_is_time_for_upgrade(self):\n",
    "        self.seniority += 1\n",
    "\n",
    "        return self.publish_grade()\n",
    "        \n",
    "olga = Designer(\n",
    "    name='Ольга',\n",
    "    seniority=2\n",
    ");\n",
    "\n",
    "for i in range(20):\n",
    "    olga.check_if_it_is_time_for_upgrade()\n",
    "    \n",
    "for i in range(5):\n",
    "    olga.give_a_prize()\n",
    "\n",
    "for i in range(20):\n",
    "    olga.check_if_it_is_time_for_upgrade()"
   ]
  },
  {
   "cell_type": "code",
   "execution_count": null,
   "metadata": {},
   "outputs": [],
   "source": []
  }
 ],
 "metadata": {
  "kernelspec": {
   "display_name": "Python 3",
   "language": "python",
   "name": "python3"
  },
  "language_info": {
   "codemirror_mode": {
    "name": "ipython",
    "version": 3
   },
   "file_extension": ".py",
   "mimetype": "text/x-python",
   "name": "python",
   "nbconvert_exporter": "python",
   "pygments_lexer": "ipython3",
   "version": "3.8.3"
  }
 },
 "nbformat": 4,
 "nbformat_minor": 4
}
