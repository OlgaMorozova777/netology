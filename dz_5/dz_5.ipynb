{
 "cells": [
  {
   "cell_type": "code",
   "execution_count": 2,
   "metadata": {},
   "outputs": [],
   "source": [
    "import json"
   ]
  },
  {
   "cell_type": "code",
   "execution_count": 4,
   "metadata": {},
   "outputs": [],
   "source": [
    "data = dict()\n",
    "with open(\"purchase_log.txt\", encoding=\"utf-8\") as f:\n",
    "    for l in f.readlines():\n",
    "        dict_l = json.loads(l)\n",
    "        data[dict_l['user_id']] = dict_l['category']"
   ]
  },
  {
   "cell_type": "code",
   "execution_count": 6,
   "metadata": {},
   "outputs": [],
   "source": [
    "with open(\"visit_log.csv\", \"r\") as f_visit,\\\n",
    "      open(\"funnel.csv\", \"w\") as f_result:\n",
    "    for l in f_visit:\n",
    "        user, source = l.strip().split(\",\")\n",
    "        if user in data:\n",
    "            f_result.write(\"{},{},{}\\n\".format(user, source, data[user]))"
   ]
  },
  {
   "cell_type": "code",
   "execution_count": null,
   "metadata": {},
   "outputs": [],
   "source": []
  }
 ],
 "metadata": {
  "kernelspec": {
   "display_name": "Python 3",
   "language": "python",
   "name": "python3"
  },
  "language_info": {
   "codemirror_mode": {
    "name": "ipython",
    "version": 3
   },
   "file_extension": ".py",
   "mimetype": "text/x-python",
   "name": "python",
   "nbconvert_exporter": "python",
   "pygments_lexer": "ipython3",
   "version": "3.8.3"
  }
 },
 "nbformat": 4,
 "nbformat_minor": 4
}
