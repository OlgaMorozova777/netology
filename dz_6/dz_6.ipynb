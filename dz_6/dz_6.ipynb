{
 "cells": [
  {
   "cell_type": "code",
   "execution_count": 4,
   "metadata": {},
   "outputs": [],
   "source": [
    "from datetime import datetime"
   ]
  },
  {
   "cell_type": "code",
   "execution_count": 46,
   "metadata": {},
   "outputs": [
    {
     "data": {
      "text/plain": [
       "(datetime.datetime(2002, 10, 2, 0, 0),\n",
       " datetime.datetime(2013, 10, 11, 0, 0),\n",
       " datetime.datetime(1977, 8, 18, 0, 0))"
      ]
     },
     "execution_count": 46,
     "metadata": {},
     "output_type": "execute_result"
    }
   ],
   "source": [
    "#задача 1\n",
    "\n",
    "MT = \"Wednesday, October 2, 2002\"\n",
    "Guardian = \"Friday, 11.10.13\"\n",
    "DN = \"Thursday, 18 August 1977\"\n",
    "\n",
    "date_MT = datetime.strptime(MT, \"%A, %B %d, %Y\")\n",
    "date_Guardian = datetime.strptime(Guardian, \"%A, %d.%m.%y\")\n",
    "date_DN = datetime.strptime(DN, \"%A, %d %B %Y\")\n",
    "\n",
    "date_MT, date_Guardian, date_DN"
   ]
  },
  {
   "cell_type": "code",
   "execution_count": 45,
   "metadata": {},
   "outputs": [
    {
     "name": "stdout",
     "output_type": "stream",
     "text": [
      "дата \"2018-04-02\" : True\n",
      "дата \"2018-02-29\" : False\n",
      "дата \"2018-19-02\" : False\n"
     ]
    }
   ],
   "source": [
    "#задача 2\n",
    "\n",
    "stream = [\"2018-04-02\", \"2018-02-29\", \"2018-19-02\"]\n",
    "\n",
    "def date(any_date):\n",
    "    try:\n",
    "        datetime.strptime(any_date, '%Y-%m-%d')\n",
    "        return print('дата \"{}\" : {}'.format(any_date, True))\n",
    "    except ValueError:\n",
    "        return print('дата \"{}\" : {}'.format(any_date, False))\n",
    "\n",
    "for dt in stream:\n",
    "    date(dt)"
   ]
  },
  {
   "cell_type": "code",
   "execution_count": 6,
   "metadata": {},
   "outputs": [],
   "source": [
    "from datetime import timedelta"
   ]
  },
  {
   "cell_type": "code",
   "execution_count": 9,
   "metadata": {},
   "outputs": [
    {
     "name": "stdout",
     "output_type": "stream",
     "text": [
      "2020-01-01\n",
      "2020-01-02\n",
      "2020-01-03\n",
      "2020-01-04\n",
      "2020-01-05\n",
      "2020-01-06\n",
      "2020-01-07\n",
      "2020-01-08\n",
      "2020-01-09\n",
      "2020-01-10\n"
     ]
    }
   ],
   "source": [
    "#задача 3\n",
    "\n",
    "start_date = '2020-01-01'\n",
    "end_date = '2020-01-10'\n",
    "\n",
    "def data_range():\n",
    "    \"\"\"вернуть список дат за период\"\"\"\n",
    "    \n",
    "start_date_dt = datetime.strptime(start_date, '%Y-%m-%d')\n",
    "end_date_dt = datetime.strptime(end_date, '%Y-%m-%d')\n",
    "\n",
    "while start_date_dt <= end_date_dt:\n",
    "    print(start_date_dt.strftime('%Y-%m-%d'))\n",
    "    \n",
    "    start_date_dt += timedelta(days=1)\n",
    "\n"
   ]
  },
  {
   "cell_type": "code",
   "execution_count": null,
   "metadata": {},
   "outputs": [],
   "source": []
  }
 ],
 "metadata": {
  "kernelspec": {
   "display_name": "Python 3",
   "language": "python",
   "name": "python3"
  },
  "language_info": {
   "codemirror_mode": {
    "name": "ipython",
    "version": 3
   },
   "file_extension": ".py",
   "mimetype": "text/x-python",
   "name": "python",
   "nbconvert_exporter": "python",
   "pygments_lexer": "ipython3",
   "version": "3.8.3"
  }
 },
 "nbformat": 4,
 "nbformat_minor": 4
}
