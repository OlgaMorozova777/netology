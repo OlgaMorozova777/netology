{
 "cells": [
  {
   "cell_type": "code",
   "execution_count": 9,
   "metadata": {},
   "outputs": [],
   "source": [
    "import pandas as pd\n",
    "import numpy as np"
   ]
  },
  {
   "cell_type": "code",
   "execution_count": null,
   "metadata": {},
   "outputs": [],
   "source": [
    "df = pd.read_csv('horse_data.csv', names = ['Fact of surgery', 'Age', 'Hospital Number', 'Temperature', 'Pulse', 'Respiratory Rate', 'Temperature of Extremities', 'Peripheral Pulse', 'Mucous Membranes', 'Capillary Refill Time','Pain', 'Peristalsis', 'Abdominal Distension', 'Nasogastric Tube', 'Nasogastric Reflux', 'Nasogastric Reflux PH', 'Rectal Examination', 'Abdomen', 'Packed Cell Volume', 'Total Protein', 'Abdominocentesis Appearance', 'Abdomcentesis Total Protein', 'Outcome', 'Surgical Lesion', 'Type of Lesion', 'Type of Lesion_1', 'Type of Lesion_2', 'cp_data'], sep = '\\,', header=0, engine='python')\n",
    "df.head(5)"
   ]
  },
  {
   "cell_type": "code",
   "execution_count": null,
   "metadata": {},
   "outputs": [],
   "source": [
    "#Колонки для анализа\n",
    "\n",
    "data = df[['Hospital Number', 'Fact of surgery', 'Temperature', 'Pulse', 'Abdominal Distension', 'Packed Cell Volume','Pain', 'Outcome']].reset_index()\n",
    "data.info()"
   ]
  },
  {
   "cell_type": "code",
   "execution_count": null,
   "metadata": {},
   "outputs": [],
   "source": [
    "data = data.replace('?', np.nan)\n",
    "data = data.apply(pd.to_numeric)\n",
    "data.info()"
   ]
  },
  {
   "cell_type": "code",
   "execution_count": null,
   "metadata": {},
   "outputs": [],
   "source": [
    "data.describe()"
   ]
  },
  {
   "cell_type": "code",
   "execution_count": null,
   "metadata": {},
   "outputs": [],
   "source": [
    "#выбросы по температуре\n",
    "\n",
    "def ejection(row):\n",
    "    q1 = data['Temperature'].quantile(0.25)\n",
    "    q3 = data['Temperature'].quantile(0.75)\n",
    "    iqr = q3 - q1\n",
    "    lower_bound = q1 - (1.5 * iqr) \n",
    "    upper_bound = q3 + (1.5 * iqr)\n",
    "\n",
    "    if row['Temperature'] > upper_bound or row['Temperature'] < lower_bound:\n",
    "        return row['Temperature']"
   ]
  },
  {
   "cell_type": "code",
   "execution_count": null,
   "metadata": {},
   "outputs": [],
   "source": [
    "#Возможный разброс температуры для лошадей от 35 до 42 град Цельсия, где 40 и выше соответствует лихорадке, а 36 и ниже - шоковому состоянию. Все выбросы находятся в рамках допустимых значений.\n",
    "data_1 = pd.DataFrame()\n",
    "data_1['Temperature ejection'] = data.apply(ejection, axis=1)\n",
    "data_1.dropna()"
   ]
  },
  {
   "cell_type": "code",
   "execution_count": null,
   "metadata": {},
   "outputs": [],
   "source": [
    "#Выбросы по пульсу\n",
    "\n",
    "def ejection_1(row):\n",
    "    q1 = data['Pulse'].quantile(0.25)\n",
    "    q3 = data['Pulse'].quantile(0.75)\n",
    "    iqr = q3 - q1\n",
    "    lower_bound = q1 - (1.5 * iqr) \n",
    "    upper_bound = q3 + (1.5 * iqr)\n",
    "\n",
    "    if row['Pulse'] > upper_bound or row['Pulse'] < lower_bound:\n",
    "        return row['Pulse']"
   ]
  },
  {
   "cell_type": "code",
   "execution_count": null,
   "metadata": {},
   "outputs": [],
   "source": [
    "data_1 = pd.DataFrame()\n",
    "data_1['Pulse ejection'] = data.apply(ejection_1, axis=1)\n",
    "data_1.dropna()\n",
    "\n",
    "#Физиологическая норма для лошадей от 20 до 240 ударов. Все выбросы имеют возможные значения"
   ]
  },
  {
   "cell_type": "code",
   "execution_count": null,
   "metadata": {},
   "outputs": [],
   "source": [
    "def ejection_3(row):\n",
    "    q1 = data['Packed Cell Volume'].quantile(0.25)\n",
    "    q3 = data['Packed Cell Volume'].quantile(0.75)\n",
    "    iqr = q3 - q1\n",
    "    lower_bound = q1 - (1.5 * iqr) \n",
    "    upper_bound = q3 + (1.5 * iqr)\n",
    "\n",
    "    if row['Packed Cell Volume'] > upper_bound or row['Packed Cell Volume'] < lower_bound:\n",
    "        return row['Packed Cell Volume']\n"
   ]
  },
  {
   "cell_type": "code",
   "execution_count": null,
   "metadata": {},
   "outputs": [],
   "source": [
    "data_1 = pd.DataFrame()\n",
    "data_1['PCV ejection'] = data.apply(ejection_3, axis=1)\n",
    "data_1.dropna()\n",
    "#максимальный гематокрит - 80%, повышенные значения могут быть вызваны обезвоживанием организма, осложнением после операции и тд"
   ]
  },
  {
   "cell_type": "code",
   "execution_count": null,
   "metadata": {},
   "outputs": [],
   "source": [
    "for col in data:\n",
    "    pct_missing = data[col].isnull().mean()\n",
    "    print(f'{col} - {pct_missing :.1%}')"
   ]
  },
  {
   "cell_type": "code",
   "execution_count": null,
   "metadata": {},
   "outputs": [],
   "source": [
    "#найдем пропуск по факту операции\n",
    "data[data['Fact of surgery'].isnull()]"
   ]
  },
  {
   "cell_type": "code",
   "execution_count": null,
   "metadata": {},
   "outputs": [],
   "source": [
    "# так как значения температуры, пульсы и гематокрита находятся в рамках показаний для здоровой лошади, вздутие отсутствовало, предположим, что показаний к операции не было. Внесем значение вручную\n",
    "data['Fact of surgery'].fillna(2, inplace=True)"
   ]
  },
  {
   "cell_type": "code",
   "execution_count": null,
   "metadata": {},
   "outputs": [],
   "source": [
    "#пропущенное значение исхода заполним исходя из группировок по боли и операции - чем выше эти показания, тем в среднем хуже исход\n",
    "\n",
    "data.loc[data['Outcome'].isnull(), 'Outcome'] = data.groupby(['Fact of surgery','Pain'])['Outcome'].transform('median')"
   ]
  },
  {
   "cell_type": "code",
   "execution_count": null,
   "metadata": {},
   "outputs": [],
   "source": [
    "#из описания данных можно сделать вывод, что чем сильнее вздутие, тем вероятнее операция. Заполним пропуски по столбцу вздутия на основе проведенных операций\n",
    "data.loc[data['Abdominal Distension'].isnull(), 'Abdominal Distension'] = data.groupby(['Fact of surgery'])['Abdominal Distension'].transform('median')"
   ]
  },
  {
   "cell_type": "code",
   "execution_count": null,
   "metadata": {},
   "outputs": [],
   "source": [
    "#пропуски в графе боль заполняем на основании вздутия. Чем оно больше, тем больше боли должно испытывать животное\n",
    "data.loc[data['Pain'].isnull(), 'Pain'] = data.groupby(['Abdominal Distension'])['Pain'].transform('median')"
   ]
  },
  {
   "cell_type": "code",
   "execution_count": null,
   "metadata": {},
   "outputs": [],
   "source": [
    "#показатели температуры, пульса и гематокрита заполним медианами соответствующих значений\n",
    "data['Temperature'].fillna(data['Temperature'].median(), inplace=True)"
   ]
  },
  {
   "cell_type": "code",
   "execution_count": null,
   "metadata": {},
   "outputs": [],
   "source": [
    "data['Pulse'].fillna(data['Pulse'].median(), inplace=True)"
   ]
  },
  {
   "cell_type": "code",
   "execution_count": null,
   "metadata": {},
   "outputs": [],
   "source": [
    "data['Packed Cell Volume'].fillna(data['Packed Cell Volume'].median(), inplace=True)"
   ]
  },
  {
   "cell_type": "code",
   "execution_count": null,
   "metadata": {},
   "outputs": [],
   "source": [
    "data.info()"
   ]
  }
 ],
 "metadata": {
  "kernelspec": {
   "display_name": "Python 3",
   "language": "python",
   "name": "python3"
  },
  "language_info": {
   "codemirror_mode": {
    "name": "ipython",
    "version": 3
   },
   "file_extension": ".py",
   "mimetype": "text/x-python",
   "name": "python",
   "nbconvert_exporter": "python",
   "pygments_lexer": "ipython3",
   "version": "3.8.3"
  }
 },
 "nbformat": 4,
 "nbformat_minor": 4
}
