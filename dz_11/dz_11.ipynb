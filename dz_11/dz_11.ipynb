{
 "cells": [
  {
   "cell_type": "code",
   "execution_count": null,
   "metadata": {},
   "outputs": [],
   "source": [
    "#Задание 1\n",
    "\n",
    "\n",
    "import pandas as pd\n",
    "\n",
    "\n",
    "def movie_classify(row):\n",
    "    '''\n",
    "    Функция классификации фильма по значению поля rating из dataframe ratings\n",
    "    '''\n",
    "    rating = ''\n",
    "    if row['rating'] <= 2:\n",
    "        rating = 'низкий рейтинг'\n",
    "    elif 2 < row['rating'] <= 4:\n",
    "        rating = 'средний рейтинг'\n",
    "    elif 4 < row['rating'] <= 5:\n",
    "        rating = 'высокий рейтинг'\n",
    "    else:\n",
    "        rating = 'рейтинг не определен'\n",
    "    return rating\n",
    "\n",
    "\n",
    "path = '/Users/neur0tr0n/Downloads/ml-latest-small-3/'\n",
    "movies_file = 'movies.csv'\n",
    "rating_file = 'ratings.csv'\n",
    "movies = pd.read_csv(path + movies_file)\n",
    "ratings = pd.read_csv(path + rating_file)\n",
    "movie_rating = pd.merge(movies, ratings, how='left', on='movieId')\n",
    "movie_rating['class'] = movie_rating.apply(movie_classify, axis=1)\n",
    "print(movie_rating.head(10))"
   ]
  },
  {
   "cell_type": "code",
   "execution_count": null,
   "metadata": {},
   "outputs": [],
   "source": [
    "#Задание 2\n",
    "\n",
    "\n",
    "import pandas as pd\n",
    "\n",
    "\n",
    "def get_region(row):\n",
    "    region = 'undefined'\n",
    "    geo_data = {\n",
    "        'Центр': ['москва', 'тула', 'ярославль'],\n",
    "        'Северо-Запад': ['петербург', 'псков', 'мурманск'],\n",
    "        'Дальний Восток': ['владивосток', 'сахалин', 'хабаровск']\n",
    "    }\n",
    "    for key, cities in geo_data.items():\n",
    "        split_keywords = [x.lower() for x in row['keyword'].split()]\n",
    "        if set(split_keywords).intersection(cities):\n",
    "            region = key\n",
    "    return region\n",
    "\n",
    "\n",
    "path = '/Users/neur0tr0n/Downloads/ml-latest-small-3/'\n",
    "file = 'keywords.csv'\n",
    "keywords = pd.read_csv(path + file)\n",
    "keywords['region'] = keywords.apply(get_region, axis=1)\n",
    "print(keywords.query('region != \\'undefined\\'').head(10))"
   ]
  },
  {
   "cell_type": "code",
   "execution_count": null,
   "metadata": {},
   "outputs": [],
   "source": []
  }
 ],
 "metadata": {
  "kernelspec": {
   "display_name": "Python 3",
   "language": "python",
   "name": "python3"
  },
  "language_info": {
   "codemirror_mode": {
    "name": "ipython",
    "version": 3
   },
   "file_extension": ".py",
   "mimetype": "text/x-python",
   "name": "python",
   "nbconvert_exporter": "python",
   "pygments_lexer": "ipython3",
   "version": "3.8.3"
  }
 },
 "nbformat": 4,
 "nbformat_minor": 4
}
